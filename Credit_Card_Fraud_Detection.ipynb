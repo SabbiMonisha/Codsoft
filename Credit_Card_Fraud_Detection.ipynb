{
  "nbformat": 4,
  "nbformat_minor": 0,
  "metadata": {
    "colab": {
      "provenance": [],
      "mount_file_id": "1bMQCnWI1tsRHivKfSY0k9lXcOkrOV3aJ",
      "authorship_tag": "ABX9TyPB/tC5VDDbGrWjv5+2tuxv",
      "include_colab_link": true
    },
    "kernelspec": {
      "name": "python3",
      "display_name": "Python 3"
    },
    "language_info": {
      "name": "python"
    }
  },
  "cells": [
    {
      "cell_type": "markdown",
      "metadata": {
        "id": "view-in-github",
        "colab_type": "text"
      },
      "source": [
        "<a href=\"https://colab.research.google.com/github/SabbiMonisha/Codsoft/blob/main/Credit_Card_Fraud_Detection.ipynb\" target=\"_parent\"><img src=\"https://colab.research.google.com/assets/colab-badge.svg\" alt=\"Open In Colab\"/></a>"
      ]
    },
    {
      "cell_type": "code",
      "source": [
        "from google.colab import drive\n",
        "drive.mount('/content/drive')"
      ],
      "metadata": {
        "colab": {
          "base_uri": "https://localhost:8080/"
        },
        "id": "ScLQCex1iY18",
        "outputId": "883fe6e8-468f-484e-cadb-0c6f7a389099"
      },
      "execution_count": 2,
      "outputs": [
        {
          "output_type": "stream",
          "name": "stdout",
          "text": [
            "Drive already mounted at /content/drive; to attempt to forcibly remount, call drive.mount(\"/content/drive\", force_remount=True).\n"
          ]
        }
      ]
    },
    {
      "cell_type": "code",
      "source": [
        "import numpy as np\n",
        "import pandas as pd\n",
        "import matplotlib.pyplot as plt\n",
        "import seaborn as sns"
      ],
      "metadata": {
        "id": "gnQ7zlzGjAeP"
      },
      "execution_count": 3,
      "outputs": []
    },
    {
      "cell_type": "code",
      "source": [
        "from sklearn.linear_model import LogisticRegression\n",
        "from sklearn.svm import SVC\n",
        "from sklearn.neighbors import KNeighborsClassifier\n",
        "from sklearn.tree import DecisionTreeClassifier\n",
        "from sklearn.ensemble import RandomForestClassifier\n"
      ],
      "metadata": {
        "id": "EvhsmF_8jS8M"
      },
      "execution_count": 4,
      "outputs": []
    },
    {
      "cell_type": "code",
      "source": [
        "from sklearn.preprocessing import MinMaxScaler\n",
        "from sklearn.model_selection import train_test_split, RandomizedSearchCV, GridSearchCV\n",
        "from sklearn.model_selection  import cross_val_score\n",
        "from imblearn.over_sampling import SMOTE\n",
        "from sklearn.metrics import precision_score, recall_score, f1_score, mean_squared_error\n",
        "from sklearn.metrics import accuracy_score, classification_report, confusion_matrix\n",
        "from sklearn.cluster import KMeans"
      ],
      "metadata": {
        "id": "GIUpDJbQjYGS"
      },
      "execution_count": 5,
      "outputs": []
    },
    {
      "cell_type": "code",
      "source": [
        "from tensorflow import keras\n",
        "from tensorflow.keras.models import Sequential\n",
        "from tensorflow.keras.layers import Dense,Dropout\n",
        "\n",
        "import warnings\n",
        "warnings.filterwarnings(\"ignore\")"
      ],
      "metadata": {
        "id": "H5muPjxPmFo9"
      },
      "execution_count": 6,
      "outputs": []
    },
    {
      "cell_type": "code",
      "source": [
        "data= pd.read_csv('/content/creditcard.csv')\n",
        "data"
      ],
      "metadata": {
        "colab": {
          "base_uri": "https://localhost:8080/",
          "height": 443
        },
        "id": "lvRSGFHFmOaa",
        "outputId": "24e9adc9-5369-4ebe-a0c3-788d5e2e780d"
      },
      "execution_count": 7,
      "outputs": [
        {
          "output_type": "execute_result",
          "data": {
            "text/plain": [
              "      Time        V1        V2        V3        V4        V5        V6  \\\n",
              "0        0 -1.359807 -0.072781  2.536347  1.378155 -0.338321  0.462388   \n",
              "1        0  1.191857  0.266151  0.166480  0.448154  0.060018 -0.082361   \n",
              "2        1 -1.358354 -1.340163  1.773209  0.379780 -0.503198  1.800499   \n",
              "3        1 -0.966272 -0.185226  1.792993 -0.863291 -0.010309  1.247203   \n",
              "4        2 -1.158233  0.877737  1.548718  0.403034 -0.407193  0.095921   \n",
              "...    ...       ...       ...       ...       ...       ...       ...   \n",
              "5969  6634 -1.611463  0.190648  0.901715  1.531254 -1.535865  0.799245   \n",
              "5970  6635 -1.420272  1.449354  1.320110 -1.894320  0.913695  0.454601   \n",
              "5971  6637 -1.206696  0.284728  2.152053 -2.850437 -0.437285 -0.238376   \n",
              "5972  6644  1.067611  0.091006 -0.153917  0.704233  0.113894 -0.826866   \n",
              "5973  6645 -0.535272 -0.132299  2.180041  1.018303 -1.498819  0.529570   \n",
              "\n",
              "            V7        V8        V9  ...       V21       V22       V23  \\\n",
              "0     0.239599  0.098698  0.363787  ... -0.018307  0.277838 -0.110474   \n",
              "1    -0.078803  0.085102 -0.255425  ... -0.225775 -0.638672  0.101288   \n",
              "2     0.791461  0.247676 -1.514654  ...  0.247998  0.771679  0.909412   \n",
              "3     0.237609  0.377436 -1.387024  ... -0.108300  0.005274 -0.190321   \n",
              "4     0.592941 -0.270533  0.817739  ... -0.009431  0.798278 -0.137458   \n",
              "...        ...       ...       ...  ...       ...       ...       ...   \n",
              "5969  1.513786  0.495829  0.200390  ...  0.211223  0.007477  1.026272   \n",
              "5970  0.894179 -0.385450  2.433841  ... -0.529027 -0.368394 -0.247773   \n",
              "5971 -0.333341  0.334679  2.870542  ...  0.039460  0.464476 -0.457193   \n",
              "5972  0.567690 -0.464181  0.957295  ... -0.476723 -1.410090 -0.037550   \n",
              "5973  0.420147  0.045445  1.543919  ...       NaN       NaN       NaN   \n",
              "\n",
              "           V24       V25       V26       V27       V28  Amount  Class  \n",
              "0     0.066928  0.128539 -0.189115  0.133558 -0.021053  149.62    0.0  \n",
              "1    -0.339846  0.167170  0.125895 -0.008983  0.014724    2.69    0.0  \n",
              "2    -0.689281 -0.327642 -0.139097 -0.055353 -0.059752  378.66    0.0  \n",
              "3    -1.175575  0.647376 -0.221929  0.062723  0.061458  123.50    0.0  \n",
              "4     0.141267 -0.206010  0.502292  0.219422  0.215153   69.99    0.0  \n",
              "...        ...       ...       ...       ...       ...     ...    ...  \n",
              "5969  0.057628 -0.024955 -0.368263  0.081684  0.140669  458.92    0.0  \n",
              "5970 -1.189156 -0.126040  0.701487  0.277333 -0.222694    0.77    0.0  \n",
              "5971 -0.556105  0.517579  0.008006  0.366054  0.185008   14.00    0.0  \n",
              "5972 -0.177773  0.321810  0.114930 -0.109640  0.023205  139.90    0.0  \n",
              "5973       NaN       NaN       NaN       NaN       NaN     NaN    NaN  \n",
              "\n",
              "[5974 rows x 31 columns]"
            ],
            "text/html": [
              "\n",
              "  <div id=\"df-2eb5e3e5-6c27-4e83-ba8e-b1380b6ac042\" class=\"colab-df-container\">\n",
              "    <div>\n",
              "<style scoped>\n",
              "    .dataframe tbody tr th:only-of-type {\n",
              "        vertical-align: middle;\n",
              "    }\n",
              "\n",
              "    .dataframe tbody tr th {\n",
              "        vertical-align: top;\n",
              "    }\n",
              "\n",
              "    .dataframe thead th {\n",
              "        text-align: right;\n",
              "    }\n",
              "</style>\n",
              "<table border=\"1\" class=\"dataframe\">\n",
              "  <thead>\n",
              "    <tr style=\"text-align: right;\">\n",
              "      <th></th>\n",
              "      <th>Time</th>\n",
              "      <th>V1</th>\n",
              "      <th>V2</th>\n",
              "      <th>V3</th>\n",
              "      <th>V4</th>\n",
              "      <th>V5</th>\n",
              "      <th>V6</th>\n",
              "      <th>V7</th>\n",
              "      <th>V8</th>\n",
              "      <th>V9</th>\n",
              "      <th>...</th>\n",
              "      <th>V21</th>\n",
              "      <th>V22</th>\n",
              "      <th>V23</th>\n",
              "      <th>V24</th>\n",
              "      <th>V25</th>\n",
              "      <th>V26</th>\n",
              "      <th>V27</th>\n",
              "      <th>V28</th>\n",
              "      <th>Amount</th>\n",
              "      <th>Class</th>\n",
              "    </tr>\n",
              "  </thead>\n",
              "  <tbody>\n",
              "    <tr>\n",
              "      <th>0</th>\n",
              "      <td>0</td>\n",
              "      <td>-1.359807</td>\n",
              "      <td>-0.072781</td>\n",
              "      <td>2.536347</td>\n",
              "      <td>1.378155</td>\n",
              "      <td>-0.338321</td>\n",
              "      <td>0.462388</td>\n",
              "      <td>0.239599</td>\n",
              "      <td>0.098698</td>\n",
              "      <td>0.363787</td>\n",
              "      <td>...</td>\n",
              "      <td>-0.018307</td>\n",
              "      <td>0.277838</td>\n",
              "      <td>-0.110474</td>\n",
              "      <td>0.066928</td>\n",
              "      <td>0.128539</td>\n",
              "      <td>-0.189115</td>\n",
              "      <td>0.133558</td>\n",
              "      <td>-0.021053</td>\n",
              "      <td>149.62</td>\n",
              "      <td>0.0</td>\n",
              "    </tr>\n",
              "    <tr>\n",
              "      <th>1</th>\n",
              "      <td>0</td>\n",
              "      <td>1.191857</td>\n",
              "      <td>0.266151</td>\n",
              "      <td>0.166480</td>\n",
              "      <td>0.448154</td>\n",
              "      <td>0.060018</td>\n",
              "      <td>-0.082361</td>\n",
              "      <td>-0.078803</td>\n",
              "      <td>0.085102</td>\n",
              "      <td>-0.255425</td>\n",
              "      <td>...</td>\n",
              "      <td>-0.225775</td>\n",
              "      <td>-0.638672</td>\n",
              "      <td>0.101288</td>\n",
              "      <td>-0.339846</td>\n",
              "      <td>0.167170</td>\n",
              "      <td>0.125895</td>\n",
              "      <td>-0.008983</td>\n",
              "      <td>0.014724</td>\n",
              "      <td>2.69</td>\n",
              "      <td>0.0</td>\n",
              "    </tr>\n",
              "    <tr>\n",
              "      <th>2</th>\n",
              "      <td>1</td>\n",
              "      <td>-1.358354</td>\n",
              "      <td>-1.340163</td>\n",
              "      <td>1.773209</td>\n",
              "      <td>0.379780</td>\n",
              "      <td>-0.503198</td>\n",
              "      <td>1.800499</td>\n",
              "      <td>0.791461</td>\n",
              "      <td>0.247676</td>\n",
              "      <td>-1.514654</td>\n",
              "      <td>...</td>\n",
              "      <td>0.247998</td>\n",
              "      <td>0.771679</td>\n",
              "      <td>0.909412</td>\n",
              "      <td>-0.689281</td>\n",
              "      <td>-0.327642</td>\n",
              "      <td>-0.139097</td>\n",
              "      <td>-0.055353</td>\n",
              "      <td>-0.059752</td>\n",
              "      <td>378.66</td>\n",
              "      <td>0.0</td>\n",
              "    </tr>\n",
              "    <tr>\n",
              "      <th>3</th>\n",
              "      <td>1</td>\n",
              "      <td>-0.966272</td>\n",
              "      <td>-0.185226</td>\n",
              "      <td>1.792993</td>\n",
              "      <td>-0.863291</td>\n",
              "      <td>-0.010309</td>\n",
              "      <td>1.247203</td>\n",
              "      <td>0.237609</td>\n",
              "      <td>0.377436</td>\n",
              "      <td>-1.387024</td>\n",
              "      <td>...</td>\n",
              "      <td>-0.108300</td>\n",
              "      <td>0.005274</td>\n",
              "      <td>-0.190321</td>\n",
              "      <td>-1.175575</td>\n",
              "      <td>0.647376</td>\n",
              "      <td>-0.221929</td>\n",
              "      <td>0.062723</td>\n",
              "      <td>0.061458</td>\n",
              "      <td>123.50</td>\n",
              "      <td>0.0</td>\n",
              "    </tr>\n",
              "    <tr>\n",
              "      <th>4</th>\n",
              "      <td>2</td>\n",
              "      <td>-1.158233</td>\n",
              "      <td>0.877737</td>\n",
              "      <td>1.548718</td>\n",
              "      <td>0.403034</td>\n",
              "      <td>-0.407193</td>\n",
              "      <td>0.095921</td>\n",
              "      <td>0.592941</td>\n",
              "      <td>-0.270533</td>\n",
              "      <td>0.817739</td>\n",
              "      <td>...</td>\n",
              "      <td>-0.009431</td>\n",
              "      <td>0.798278</td>\n",
              "      <td>-0.137458</td>\n",
              "      <td>0.141267</td>\n",
              "      <td>-0.206010</td>\n",
              "      <td>0.502292</td>\n",
              "      <td>0.219422</td>\n",
              "      <td>0.215153</td>\n",
              "      <td>69.99</td>\n",
              "      <td>0.0</td>\n",
              "    </tr>\n",
              "    <tr>\n",
              "      <th>...</th>\n",
              "      <td>...</td>\n",
              "      <td>...</td>\n",
              "      <td>...</td>\n",
              "      <td>...</td>\n",
              "      <td>...</td>\n",
              "      <td>...</td>\n",
              "      <td>...</td>\n",
              "      <td>...</td>\n",
              "      <td>...</td>\n",
              "      <td>...</td>\n",
              "      <td>...</td>\n",
              "      <td>...</td>\n",
              "      <td>...</td>\n",
              "      <td>...</td>\n",
              "      <td>...</td>\n",
              "      <td>...</td>\n",
              "      <td>...</td>\n",
              "      <td>...</td>\n",
              "      <td>...</td>\n",
              "      <td>...</td>\n",
              "      <td>...</td>\n",
              "    </tr>\n",
              "    <tr>\n",
              "      <th>5969</th>\n",
              "      <td>6634</td>\n",
              "      <td>-1.611463</td>\n",
              "      <td>0.190648</td>\n",
              "      <td>0.901715</td>\n",
              "      <td>1.531254</td>\n",
              "      <td>-1.535865</td>\n",
              "      <td>0.799245</td>\n",
              "      <td>1.513786</td>\n",
              "      <td>0.495829</td>\n",
              "      <td>0.200390</td>\n",
              "      <td>...</td>\n",
              "      <td>0.211223</td>\n",
              "      <td>0.007477</td>\n",
              "      <td>1.026272</td>\n",
              "      <td>0.057628</td>\n",
              "      <td>-0.024955</td>\n",
              "      <td>-0.368263</td>\n",
              "      <td>0.081684</td>\n",
              "      <td>0.140669</td>\n",
              "      <td>458.92</td>\n",
              "      <td>0.0</td>\n",
              "    </tr>\n",
              "    <tr>\n",
              "      <th>5970</th>\n",
              "      <td>6635</td>\n",
              "      <td>-1.420272</td>\n",
              "      <td>1.449354</td>\n",
              "      <td>1.320110</td>\n",
              "      <td>-1.894320</td>\n",
              "      <td>0.913695</td>\n",
              "      <td>0.454601</td>\n",
              "      <td>0.894179</td>\n",
              "      <td>-0.385450</td>\n",
              "      <td>2.433841</td>\n",
              "      <td>...</td>\n",
              "      <td>-0.529027</td>\n",
              "      <td>-0.368394</td>\n",
              "      <td>-0.247773</td>\n",
              "      <td>-1.189156</td>\n",
              "      <td>-0.126040</td>\n",
              "      <td>0.701487</td>\n",
              "      <td>0.277333</td>\n",
              "      <td>-0.222694</td>\n",
              "      <td>0.77</td>\n",
              "      <td>0.0</td>\n",
              "    </tr>\n",
              "    <tr>\n",
              "      <th>5971</th>\n",
              "      <td>6637</td>\n",
              "      <td>-1.206696</td>\n",
              "      <td>0.284728</td>\n",
              "      <td>2.152053</td>\n",
              "      <td>-2.850437</td>\n",
              "      <td>-0.437285</td>\n",
              "      <td>-0.238376</td>\n",
              "      <td>-0.333341</td>\n",
              "      <td>0.334679</td>\n",
              "      <td>2.870542</td>\n",
              "      <td>...</td>\n",
              "      <td>0.039460</td>\n",
              "      <td>0.464476</td>\n",
              "      <td>-0.457193</td>\n",
              "      <td>-0.556105</td>\n",
              "      <td>0.517579</td>\n",
              "      <td>0.008006</td>\n",
              "      <td>0.366054</td>\n",
              "      <td>0.185008</td>\n",
              "      <td>14.00</td>\n",
              "      <td>0.0</td>\n",
              "    </tr>\n",
              "    <tr>\n",
              "      <th>5972</th>\n",
              "      <td>6644</td>\n",
              "      <td>1.067611</td>\n",
              "      <td>0.091006</td>\n",
              "      <td>-0.153917</td>\n",
              "      <td>0.704233</td>\n",
              "      <td>0.113894</td>\n",
              "      <td>-0.826866</td>\n",
              "      <td>0.567690</td>\n",
              "      <td>-0.464181</td>\n",
              "      <td>0.957295</td>\n",
              "      <td>...</td>\n",
              "      <td>-0.476723</td>\n",
              "      <td>-1.410090</td>\n",
              "      <td>-0.037550</td>\n",
              "      <td>-0.177773</td>\n",
              "      <td>0.321810</td>\n",
              "      <td>0.114930</td>\n",
              "      <td>-0.109640</td>\n",
              "      <td>0.023205</td>\n",
              "      <td>139.90</td>\n",
              "      <td>0.0</td>\n",
              "    </tr>\n",
              "    <tr>\n",
              "      <th>5973</th>\n",
              "      <td>6645</td>\n",
              "      <td>-0.535272</td>\n",
              "      <td>-0.132299</td>\n",
              "      <td>2.180041</td>\n",
              "      <td>1.018303</td>\n",
              "      <td>-1.498819</td>\n",
              "      <td>0.529570</td>\n",
              "      <td>0.420147</td>\n",
              "      <td>0.045445</td>\n",
              "      <td>1.543919</td>\n",
              "      <td>...</td>\n",
              "      <td>NaN</td>\n",
              "      <td>NaN</td>\n",
              "      <td>NaN</td>\n",
              "      <td>NaN</td>\n",
              "      <td>NaN</td>\n",
              "      <td>NaN</td>\n",
              "      <td>NaN</td>\n",
              "      <td>NaN</td>\n",
              "      <td>NaN</td>\n",
              "      <td>NaN</td>\n",
              "    </tr>\n",
              "  </tbody>\n",
              "</table>\n",
              "<p>5974 rows × 31 columns</p>\n",
              "</div>\n",
              "    <div class=\"colab-df-buttons\">\n",
              "\n",
              "  <div class=\"colab-df-container\">\n",
              "    <button class=\"colab-df-convert\" onclick=\"convertToInteractive('df-2eb5e3e5-6c27-4e83-ba8e-b1380b6ac042')\"\n",
              "            title=\"Convert this dataframe to an interactive table.\"\n",
              "            style=\"display:none;\">\n",
              "\n",
              "  <svg xmlns=\"http://www.w3.org/2000/svg\" height=\"24px\" viewBox=\"0 -960 960 960\">\n",
              "    <path d=\"M120-120v-720h720v720H120Zm60-500h600v-160H180v160Zm220 220h160v-160H400v160Zm0 220h160v-160H400v160ZM180-400h160v-160H180v160Zm440 0h160v-160H620v160ZM180-180h160v-160H180v160Zm440 0h160v-160H620v160Z\"/>\n",
              "  </svg>\n",
              "    </button>\n",
              "\n",
              "  <style>\n",
              "    .colab-df-container {\n",
              "      display:flex;\n",
              "      gap: 12px;\n",
              "    }\n",
              "\n",
              "    .colab-df-convert {\n",
              "      background-color: #E8F0FE;\n",
              "      border: none;\n",
              "      border-radius: 50%;\n",
              "      cursor: pointer;\n",
              "      display: none;\n",
              "      fill: #1967D2;\n",
              "      height: 32px;\n",
              "      padding: 0 0 0 0;\n",
              "      width: 32px;\n",
              "    }\n",
              "\n",
              "    .colab-df-convert:hover {\n",
              "      background-color: #E2EBFA;\n",
              "      box-shadow: 0px 1px 2px rgba(60, 64, 67, 0.3), 0px 1px 3px 1px rgba(60, 64, 67, 0.15);\n",
              "      fill: #174EA6;\n",
              "    }\n",
              "\n",
              "    .colab-df-buttons div {\n",
              "      margin-bottom: 4px;\n",
              "    }\n",
              "\n",
              "    [theme=dark] .colab-df-convert {\n",
              "      background-color: #3B4455;\n",
              "      fill: #D2E3FC;\n",
              "    }\n",
              "\n",
              "    [theme=dark] .colab-df-convert:hover {\n",
              "      background-color: #434B5C;\n",
              "      box-shadow: 0px 1px 3px 1px rgba(0, 0, 0, 0.15);\n",
              "      filter: drop-shadow(0px 1px 2px rgba(0, 0, 0, 0.3));\n",
              "      fill: #FFFFFF;\n",
              "    }\n",
              "  </style>\n",
              "\n",
              "    <script>\n",
              "      const buttonEl =\n",
              "        document.querySelector('#df-2eb5e3e5-6c27-4e83-ba8e-b1380b6ac042 button.colab-df-convert');\n",
              "      buttonEl.style.display =\n",
              "        google.colab.kernel.accessAllowed ? 'block' : 'none';\n",
              "\n",
              "      async function convertToInteractive(key) {\n",
              "        const element = document.querySelector('#df-2eb5e3e5-6c27-4e83-ba8e-b1380b6ac042');\n",
              "        const dataTable =\n",
              "          await google.colab.kernel.invokeFunction('convertToInteractive',\n",
              "                                                    [key], {});\n",
              "        if (!dataTable) return;\n",
              "\n",
              "        const docLinkHtml = 'Like what you see? Visit the ' +\n",
              "          '<a target=\"_blank\" href=https://colab.research.google.com/notebooks/data_table.ipynb>data table notebook</a>'\n",
              "          + ' to learn more about interactive tables.';\n",
              "        element.innerHTML = '';\n",
              "        dataTable['output_type'] = 'display_data';\n",
              "        await google.colab.output.renderOutput(dataTable, element);\n",
              "        const docLink = document.createElement('div');\n",
              "        docLink.innerHTML = docLinkHtml;\n",
              "        element.appendChild(docLink);\n",
              "      }\n",
              "    </script>\n",
              "  </div>\n",
              "\n",
              "\n",
              "<div id=\"df-898542b6-8057-4128-8486-872d47721f2e\">\n",
              "  <button class=\"colab-df-quickchart\" onclick=\"quickchart('df-898542b6-8057-4128-8486-872d47721f2e')\"\n",
              "            title=\"Suggest charts\"\n",
              "            style=\"display:none;\">\n",
              "\n",
              "<svg xmlns=\"http://www.w3.org/2000/svg\" height=\"24px\"viewBox=\"0 0 24 24\"\n",
              "     width=\"24px\">\n",
              "    <g>\n",
              "        <path d=\"M19 3H5c-1.1 0-2 .9-2 2v14c0 1.1.9 2 2 2h14c1.1 0 2-.9 2-2V5c0-1.1-.9-2-2-2zM9 17H7v-7h2v7zm4 0h-2V7h2v10zm4 0h-2v-4h2v4z\"/>\n",
              "    </g>\n",
              "</svg>\n",
              "  </button>\n",
              "\n",
              "<style>\n",
              "  .colab-df-quickchart {\n",
              "      --bg-color: #E8F0FE;\n",
              "      --fill-color: #1967D2;\n",
              "      --hover-bg-color: #E2EBFA;\n",
              "      --hover-fill-color: #174EA6;\n",
              "      --disabled-fill-color: #AAA;\n",
              "      --disabled-bg-color: #DDD;\n",
              "  }\n",
              "\n",
              "  [theme=dark] .colab-df-quickchart {\n",
              "      --bg-color: #3B4455;\n",
              "      --fill-color: #D2E3FC;\n",
              "      --hover-bg-color: #434B5C;\n",
              "      --hover-fill-color: #FFFFFF;\n",
              "      --disabled-bg-color: #3B4455;\n",
              "      --disabled-fill-color: #666;\n",
              "  }\n",
              "\n",
              "  .colab-df-quickchart {\n",
              "    background-color: var(--bg-color);\n",
              "    border: none;\n",
              "    border-radius: 50%;\n",
              "    cursor: pointer;\n",
              "    display: none;\n",
              "    fill: var(--fill-color);\n",
              "    height: 32px;\n",
              "    padding: 0;\n",
              "    width: 32px;\n",
              "  }\n",
              "\n",
              "  .colab-df-quickchart:hover {\n",
              "    background-color: var(--hover-bg-color);\n",
              "    box-shadow: 0 1px 2px rgba(60, 64, 67, 0.3), 0 1px 3px 1px rgba(60, 64, 67, 0.15);\n",
              "    fill: var(--button-hover-fill-color);\n",
              "  }\n",
              "\n",
              "  .colab-df-quickchart-complete:disabled,\n",
              "  .colab-df-quickchart-complete:disabled:hover {\n",
              "    background-color: var(--disabled-bg-color);\n",
              "    fill: var(--disabled-fill-color);\n",
              "    box-shadow: none;\n",
              "  }\n",
              "\n",
              "  .colab-df-spinner {\n",
              "    border: 2px solid var(--fill-color);\n",
              "    border-color: transparent;\n",
              "    border-bottom-color: var(--fill-color);\n",
              "    animation:\n",
              "      spin 1s steps(1) infinite;\n",
              "  }\n",
              "\n",
              "  @keyframes spin {\n",
              "    0% {\n",
              "      border-color: transparent;\n",
              "      border-bottom-color: var(--fill-color);\n",
              "      border-left-color: var(--fill-color);\n",
              "    }\n",
              "    20% {\n",
              "      border-color: transparent;\n",
              "      border-left-color: var(--fill-color);\n",
              "      border-top-color: var(--fill-color);\n",
              "    }\n",
              "    30% {\n",
              "      border-color: transparent;\n",
              "      border-left-color: var(--fill-color);\n",
              "      border-top-color: var(--fill-color);\n",
              "      border-right-color: var(--fill-color);\n",
              "    }\n",
              "    40% {\n",
              "      border-color: transparent;\n",
              "      border-right-color: var(--fill-color);\n",
              "      border-top-color: var(--fill-color);\n",
              "    }\n",
              "    60% {\n",
              "      border-color: transparent;\n",
              "      border-right-color: var(--fill-color);\n",
              "    }\n",
              "    80% {\n",
              "      border-color: transparent;\n",
              "      border-right-color: var(--fill-color);\n",
              "      border-bottom-color: var(--fill-color);\n",
              "    }\n",
              "    90% {\n",
              "      border-color: transparent;\n",
              "      border-bottom-color: var(--fill-color);\n",
              "    }\n",
              "  }\n",
              "</style>\n",
              "\n",
              "  <script>\n",
              "    async function quickchart(key) {\n",
              "      const quickchartButtonEl =\n",
              "        document.querySelector('#' + key + ' button');\n",
              "      quickchartButtonEl.disabled = true;  // To prevent multiple clicks.\n",
              "      quickchartButtonEl.classList.add('colab-df-spinner');\n",
              "      try {\n",
              "        const charts = await google.colab.kernel.invokeFunction(\n",
              "            'suggestCharts', [key], {});\n",
              "      } catch (error) {\n",
              "        console.error('Error during call to suggestCharts:', error);\n",
              "      }\n",
              "      quickchartButtonEl.classList.remove('colab-df-spinner');\n",
              "      quickchartButtonEl.classList.add('colab-df-quickchart-complete');\n",
              "    }\n",
              "    (() => {\n",
              "      let quickchartButtonEl =\n",
              "        document.querySelector('#df-898542b6-8057-4128-8486-872d47721f2e button');\n",
              "      quickchartButtonEl.style.display =\n",
              "        google.colab.kernel.accessAllowed ? 'block' : 'none';\n",
              "    })();\n",
              "  </script>\n",
              "</div>\n",
              "\n",
              "  <div id=\"id_4040a995-c4a9-4dc6-8655-501e2a1ea8e0\">\n",
              "    <style>\n",
              "      .colab-df-generate {\n",
              "        background-color: #E8F0FE;\n",
              "        border: none;\n",
              "        border-radius: 50%;\n",
              "        cursor: pointer;\n",
              "        display: none;\n",
              "        fill: #1967D2;\n",
              "        height: 32px;\n",
              "        padding: 0 0 0 0;\n",
              "        width: 32px;\n",
              "      }\n",
              "\n",
              "      .colab-df-generate:hover {\n",
              "        background-color: #E2EBFA;\n",
              "        box-shadow: 0px 1px 2px rgba(60, 64, 67, 0.3), 0px 1px 3px 1px rgba(60, 64, 67, 0.15);\n",
              "        fill: #174EA6;\n",
              "      }\n",
              "\n",
              "      [theme=dark] .colab-df-generate {\n",
              "        background-color: #3B4455;\n",
              "        fill: #D2E3FC;\n",
              "      }\n",
              "\n",
              "      [theme=dark] .colab-df-generate:hover {\n",
              "        background-color: #434B5C;\n",
              "        box-shadow: 0px 1px 3px 1px rgba(0, 0, 0, 0.15);\n",
              "        filter: drop-shadow(0px 1px 2px rgba(0, 0, 0, 0.3));\n",
              "        fill: #FFFFFF;\n",
              "      }\n",
              "    </style>\n",
              "    <button class=\"colab-df-generate\" onclick=\"generateWithVariable('data')\"\n",
              "            title=\"Generate code using this dataframe.\"\n",
              "            style=\"display:none;\">\n",
              "\n",
              "  <svg xmlns=\"http://www.w3.org/2000/svg\" height=\"24px\"viewBox=\"0 0 24 24\"\n",
              "       width=\"24px\">\n",
              "    <path d=\"M7,19H8.4L18.45,9,17,7.55,7,17.6ZM5,21V16.75L18.45,3.32a2,2,0,0,1,2.83,0l1.4,1.43a1.91,1.91,0,0,1,.58,1.4,1.91,1.91,0,0,1-.58,1.4L9.25,21ZM18.45,9,17,7.55Zm-12,3A5.31,5.31,0,0,0,4.9,8.1,5.31,5.31,0,0,0,1,6.5,5.31,5.31,0,0,0,4.9,4.9,5.31,5.31,0,0,0,6.5,1,5.31,5.31,0,0,0,8.1,4.9,5.31,5.31,0,0,0,12,6.5,5.46,5.46,0,0,0,6.5,12Z\"/>\n",
              "  </svg>\n",
              "    </button>\n",
              "    <script>\n",
              "      (() => {\n",
              "      const buttonEl =\n",
              "        document.querySelector('#id_4040a995-c4a9-4dc6-8655-501e2a1ea8e0 button.colab-df-generate');\n",
              "      buttonEl.style.display =\n",
              "        google.colab.kernel.accessAllowed ? 'block' : 'none';\n",
              "\n",
              "      buttonEl.onclick = () => {\n",
              "        google.colab.notebook.generateWithVariable('data');\n",
              "      }\n",
              "      })();\n",
              "    </script>\n",
              "  </div>\n",
              "\n",
              "    </div>\n",
              "  </div>\n"
            ],
            "application/vnd.google.colaboratory.intrinsic+json": {
              "type": "dataframe",
              "variable_name": "data"
            }
          },
          "metadata": {},
          "execution_count": 7
        }
      ]
    },
    {
      "cell_type": "code",
      "source": [
        "data.describe()"
      ],
      "metadata": {
        "colab": {
          "base_uri": "https://localhost:8080/",
          "height": 349
        },
        "id": "T4iY17RMmW42",
        "outputId": "20092d8b-d7f9-456c-ceb8-272c942f3d89"
      },
      "execution_count": 9,
      "outputs": [
        {
          "output_type": "execute_result",
          "data": {
            "text/plain": [
              "              Time           V1           V2           V3           V4  \\\n",
              "count  5974.000000  5974.000000  5974.000000  5974.000000  5974.000000   \n",
              "mean   2677.615501    -0.266159     0.285505     0.844231     0.104200   \n",
              "std    1765.025532     1.395405     1.208867     1.031448     1.442339   \n",
              "min       0.000000   -12.168192   -15.732974   -12.389545    -4.657545   \n",
              "25%    1162.250000    -1.015749    -0.280054     0.295701    -0.839417   \n",
              "50%    2537.000000    -0.420703     0.346083     0.882882     0.161767   \n",
              "75%    3781.750000     1.115402     0.941548     1.504158     1.071412   \n",
              "max    6645.000000     1.685314     7.467017     4.101716     6.013346   \n",
              "\n",
              "                V5           V6           V7           V8           V9  ...  \\\n",
              "count  5974.000000  5974.000000  5974.000000  5974.000000  5974.000000  ...   \n",
              "mean      0.000709     0.194948     0.018324    -0.039006     0.396916  ...   \n",
              "std       1.185900     1.365525     1.059870     1.304005     1.047749  ...   \n",
              "min     -32.092129    -7.465603   -12.968670   -23.632502    -3.336805  ...   \n",
              "25%      -0.609206    -0.677720    -0.492968    -0.189736    -0.264280  ...   \n",
              "50%      -0.083983    -0.142606     0.041761     0.037831     0.360826  ...   \n",
              "75%       0.441406     0.605784     0.566306     0.343067     0.961662  ...   \n",
              "max      10.658654    21.393069    34.303177     3.877662     9.272376  ...   \n",
              "\n",
              "               V21          V22          V23          V24          V25  \\\n",
              "count  5973.000000  5973.000000  5973.000000  5973.000000  5973.000000   \n",
              "mean     -0.043098    -0.161548    -0.036483     0.028960     0.089873   \n",
              "std       0.883330     0.646380     0.373210     0.619810     0.407680   \n",
              "min     -11.468435    -8.454599    -7.996811    -2.512377    -2.322906   \n",
              "25%      -0.260507    -0.594625    -0.187108    -0.350226    -0.152744   \n",
              "50%      -0.111701    -0.177197    -0.046772     0.094946     0.106290   \n",
              "75%       0.059809     0.273148     0.088154     0.435670     0.355157   \n",
              "max      22.580675     4.393846     4.095021     3.200201     1.972515   \n",
              "\n",
              "               V26          V27          V28       Amount        Class  \n",
              "count  5973.000000  5973.000000  5973.000000  5973.000000  5973.000000  \n",
              "mean     -0.040197     0.025234     0.006116    65.061811     0.000502  \n",
              "std       0.488284     0.364482     0.265131   192.490314     0.022407  \n",
              "min      -1.338556    -7.976100    -2.909294     0.000000     0.000000  \n",
              "25%      -0.399334    -0.049681    -0.017776     4.450000     0.000000  \n",
              "50%      -0.079583     0.015976     0.019417    15.620000     0.000000  \n",
              "75%       0.245560     0.155281     0.082701    56.660000     0.000000  \n",
              "max       3.463246     3.852046     4.860769  7712.430000     1.000000  \n",
              "\n",
              "[8 rows x 31 columns]"
            ],
            "text/html": [
              "\n",
              "  <div id=\"df-66c48f4b-29d2-489a-8c35-f8feae2e6926\" class=\"colab-df-container\">\n",
              "    <div>\n",
              "<style scoped>\n",
              "    .dataframe tbody tr th:only-of-type {\n",
              "        vertical-align: middle;\n",
              "    }\n",
              "\n",
              "    .dataframe tbody tr th {\n",
              "        vertical-align: top;\n",
              "    }\n",
              "\n",
              "    .dataframe thead th {\n",
              "        text-align: right;\n",
              "    }\n",
              "</style>\n",
              "<table border=\"1\" class=\"dataframe\">\n",
              "  <thead>\n",
              "    <tr style=\"text-align: right;\">\n",
              "      <th></th>\n",
              "      <th>Time</th>\n",
              "      <th>V1</th>\n",
              "      <th>V2</th>\n",
              "      <th>V3</th>\n",
              "      <th>V4</th>\n",
              "      <th>V5</th>\n",
              "      <th>V6</th>\n",
              "      <th>V7</th>\n",
              "      <th>V8</th>\n",
              "      <th>V9</th>\n",
              "      <th>...</th>\n",
              "      <th>V21</th>\n",
              "      <th>V22</th>\n",
              "      <th>V23</th>\n",
              "      <th>V24</th>\n",
              "      <th>V25</th>\n",
              "      <th>V26</th>\n",
              "      <th>V27</th>\n",
              "      <th>V28</th>\n",
              "      <th>Amount</th>\n",
              "      <th>Class</th>\n",
              "    </tr>\n",
              "  </thead>\n",
              "  <tbody>\n",
              "    <tr>\n",
              "      <th>count</th>\n",
              "      <td>5974.000000</td>\n",
              "      <td>5974.000000</td>\n",
              "      <td>5974.000000</td>\n",
              "      <td>5974.000000</td>\n",
              "      <td>5974.000000</td>\n",
              "      <td>5974.000000</td>\n",
              "      <td>5974.000000</td>\n",
              "      <td>5974.000000</td>\n",
              "      <td>5974.000000</td>\n",
              "      <td>5974.000000</td>\n",
              "      <td>...</td>\n",
              "      <td>5973.000000</td>\n",
              "      <td>5973.000000</td>\n",
              "      <td>5973.000000</td>\n",
              "      <td>5973.000000</td>\n",
              "      <td>5973.000000</td>\n",
              "      <td>5973.000000</td>\n",
              "      <td>5973.000000</td>\n",
              "      <td>5973.000000</td>\n",
              "      <td>5973.000000</td>\n",
              "      <td>5973.000000</td>\n",
              "    </tr>\n",
              "    <tr>\n",
              "      <th>mean</th>\n",
              "      <td>2677.615501</td>\n",
              "      <td>-0.266159</td>\n",
              "      <td>0.285505</td>\n",
              "      <td>0.844231</td>\n",
              "      <td>0.104200</td>\n",
              "      <td>0.000709</td>\n",
              "      <td>0.194948</td>\n",
              "      <td>0.018324</td>\n",
              "      <td>-0.039006</td>\n",
              "      <td>0.396916</td>\n",
              "      <td>...</td>\n",
              "      <td>-0.043098</td>\n",
              "      <td>-0.161548</td>\n",
              "      <td>-0.036483</td>\n",
              "      <td>0.028960</td>\n",
              "      <td>0.089873</td>\n",
              "      <td>-0.040197</td>\n",
              "      <td>0.025234</td>\n",
              "      <td>0.006116</td>\n",
              "      <td>65.061811</td>\n",
              "      <td>0.000502</td>\n",
              "    </tr>\n",
              "    <tr>\n",
              "      <th>std</th>\n",
              "      <td>1765.025532</td>\n",
              "      <td>1.395405</td>\n",
              "      <td>1.208867</td>\n",
              "      <td>1.031448</td>\n",
              "      <td>1.442339</td>\n",
              "      <td>1.185900</td>\n",
              "      <td>1.365525</td>\n",
              "      <td>1.059870</td>\n",
              "      <td>1.304005</td>\n",
              "      <td>1.047749</td>\n",
              "      <td>...</td>\n",
              "      <td>0.883330</td>\n",
              "      <td>0.646380</td>\n",
              "      <td>0.373210</td>\n",
              "      <td>0.619810</td>\n",
              "      <td>0.407680</td>\n",
              "      <td>0.488284</td>\n",
              "      <td>0.364482</td>\n",
              "      <td>0.265131</td>\n",
              "      <td>192.490314</td>\n",
              "      <td>0.022407</td>\n",
              "    </tr>\n",
              "    <tr>\n",
              "      <th>min</th>\n",
              "      <td>0.000000</td>\n",
              "      <td>-12.168192</td>\n",
              "      <td>-15.732974</td>\n",
              "      <td>-12.389545</td>\n",
              "      <td>-4.657545</td>\n",
              "      <td>-32.092129</td>\n",
              "      <td>-7.465603</td>\n",
              "      <td>-12.968670</td>\n",
              "      <td>-23.632502</td>\n",
              "      <td>-3.336805</td>\n",
              "      <td>...</td>\n",
              "      <td>-11.468435</td>\n",
              "      <td>-8.454599</td>\n",
              "      <td>-7.996811</td>\n",
              "      <td>-2.512377</td>\n",
              "      <td>-2.322906</td>\n",
              "      <td>-1.338556</td>\n",
              "      <td>-7.976100</td>\n",
              "      <td>-2.909294</td>\n",
              "      <td>0.000000</td>\n",
              "      <td>0.000000</td>\n",
              "    </tr>\n",
              "    <tr>\n",
              "      <th>25%</th>\n",
              "      <td>1162.250000</td>\n",
              "      <td>-1.015749</td>\n",
              "      <td>-0.280054</td>\n",
              "      <td>0.295701</td>\n",
              "      <td>-0.839417</td>\n",
              "      <td>-0.609206</td>\n",
              "      <td>-0.677720</td>\n",
              "      <td>-0.492968</td>\n",
              "      <td>-0.189736</td>\n",
              "      <td>-0.264280</td>\n",
              "      <td>...</td>\n",
              "      <td>-0.260507</td>\n",
              "      <td>-0.594625</td>\n",
              "      <td>-0.187108</td>\n",
              "      <td>-0.350226</td>\n",
              "      <td>-0.152744</td>\n",
              "      <td>-0.399334</td>\n",
              "      <td>-0.049681</td>\n",
              "      <td>-0.017776</td>\n",
              "      <td>4.450000</td>\n",
              "      <td>0.000000</td>\n",
              "    </tr>\n",
              "    <tr>\n",
              "      <th>50%</th>\n",
              "      <td>2537.000000</td>\n",
              "      <td>-0.420703</td>\n",
              "      <td>0.346083</td>\n",
              "      <td>0.882882</td>\n",
              "      <td>0.161767</td>\n",
              "      <td>-0.083983</td>\n",
              "      <td>-0.142606</td>\n",
              "      <td>0.041761</td>\n",
              "      <td>0.037831</td>\n",
              "      <td>0.360826</td>\n",
              "      <td>...</td>\n",
              "      <td>-0.111701</td>\n",
              "      <td>-0.177197</td>\n",
              "      <td>-0.046772</td>\n",
              "      <td>0.094946</td>\n",
              "      <td>0.106290</td>\n",
              "      <td>-0.079583</td>\n",
              "      <td>0.015976</td>\n",
              "      <td>0.019417</td>\n",
              "      <td>15.620000</td>\n",
              "      <td>0.000000</td>\n",
              "    </tr>\n",
              "    <tr>\n",
              "      <th>75%</th>\n",
              "      <td>3781.750000</td>\n",
              "      <td>1.115402</td>\n",
              "      <td>0.941548</td>\n",
              "      <td>1.504158</td>\n",
              "      <td>1.071412</td>\n",
              "      <td>0.441406</td>\n",
              "      <td>0.605784</td>\n",
              "      <td>0.566306</td>\n",
              "      <td>0.343067</td>\n",
              "      <td>0.961662</td>\n",
              "      <td>...</td>\n",
              "      <td>0.059809</td>\n",
              "      <td>0.273148</td>\n",
              "      <td>0.088154</td>\n",
              "      <td>0.435670</td>\n",
              "      <td>0.355157</td>\n",
              "      <td>0.245560</td>\n",
              "      <td>0.155281</td>\n",
              "      <td>0.082701</td>\n",
              "      <td>56.660000</td>\n",
              "      <td>0.000000</td>\n",
              "    </tr>\n",
              "    <tr>\n",
              "      <th>max</th>\n",
              "      <td>6645.000000</td>\n",
              "      <td>1.685314</td>\n",
              "      <td>7.467017</td>\n",
              "      <td>4.101716</td>\n",
              "      <td>6.013346</td>\n",
              "      <td>10.658654</td>\n",
              "      <td>21.393069</td>\n",
              "      <td>34.303177</td>\n",
              "      <td>3.877662</td>\n",
              "      <td>9.272376</td>\n",
              "      <td>...</td>\n",
              "      <td>22.580675</td>\n",
              "      <td>4.393846</td>\n",
              "      <td>4.095021</td>\n",
              "      <td>3.200201</td>\n",
              "      <td>1.972515</td>\n",
              "      <td>3.463246</td>\n",
              "      <td>3.852046</td>\n",
              "      <td>4.860769</td>\n",
              "      <td>7712.430000</td>\n",
              "      <td>1.000000</td>\n",
              "    </tr>\n",
              "  </tbody>\n",
              "</table>\n",
              "<p>8 rows × 31 columns</p>\n",
              "</div>\n",
              "    <div class=\"colab-df-buttons\">\n",
              "\n",
              "  <div class=\"colab-df-container\">\n",
              "    <button class=\"colab-df-convert\" onclick=\"convertToInteractive('df-66c48f4b-29d2-489a-8c35-f8feae2e6926')\"\n",
              "            title=\"Convert this dataframe to an interactive table.\"\n",
              "            style=\"display:none;\">\n",
              "\n",
              "  <svg xmlns=\"http://www.w3.org/2000/svg\" height=\"24px\" viewBox=\"0 -960 960 960\">\n",
              "    <path d=\"M120-120v-720h720v720H120Zm60-500h600v-160H180v160Zm220 220h160v-160H400v160Zm0 220h160v-160H400v160ZM180-400h160v-160H180v160Zm440 0h160v-160H620v160ZM180-180h160v-160H180v160Zm440 0h160v-160H620v160Z\"/>\n",
              "  </svg>\n",
              "    </button>\n",
              "\n",
              "  <style>\n",
              "    .colab-df-container {\n",
              "      display:flex;\n",
              "      gap: 12px;\n",
              "    }\n",
              "\n",
              "    .colab-df-convert {\n",
              "      background-color: #E8F0FE;\n",
              "      border: none;\n",
              "      border-radius: 50%;\n",
              "      cursor: pointer;\n",
              "      display: none;\n",
              "      fill: #1967D2;\n",
              "      height: 32px;\n",
              "      padding: 0 0 0 0;\n",
              "      width: 32px;\n",
              "    }\n",
              "\n",
              "    .colab-df-convert:hover {\n",
              "      background-color: #E2EBFA;\n",
              "      box-shadow: 0px 1px 2px rgba(60, 64, 67, 0.3), 0px 1px 3px 1px rgba(60, 64, 67, 0.15);\n",
              "      fill: #174EA6;\n",
              "    }\n",
              "\n",
              "    .colab-df-buttons div {\n",
              "      margin-bottom: 4px;\n",
              "    }\n",
              "\n",
              "    [theme=dark] .colab-df-convert {\n",
              "      background-color: #3B4455;\n",
              "      fill: #D2E3FC;\n",
              "    }\n",
              "\n",
              "    [theme=dark] .colab-df-convert:hover {\n",
              "      background-color: #434B5C;\n",
              "      box-shadow: 0px 1px 3px 1px rgba(0, 0, 0, 0.15);\n",
              "      filter: drop-shadow(0px 1px 2px rgba(0, 0, 0, 0.3));\n",
              "      fill: #FFFFFF;\n",
              "    }\n",
              "  </style>\n",
              "\n",
              "    <script>\n",
              "      const buttonEl =\n",
              "        document.querySelector('#df-66c48f4b-29d2-489a-8c35-f8feae2e6926 button.colab-df-convert');\n",
              "      buttonEl.style.display =\n",
              "        google.colab.kernel.accessAllowed ? 'block' : 'none';\n",
              "\n",
              "      async function convertToInteractive(key) {\n",
              "        const element = document.querySelector('#df-66c48f4b-29d2-489a-8c35-f8feae2e6926');\n",
              "        const dataTable =\n",
              "          await google.colab.kernel.invokeFunction('convertToInteractive',\n",
              "                                                    [key], {});\n",
              "        if (!dataTable) return;\n",
              "\n",
              "        const docLinkHtml = 'Like what you see? Visit the ' +\n",
              "          '<a target=\"_blank\" href=https://colab.research.google.com/notebooks/data_table.ipynb>data table notebook</a>'\n",
              "          + ' to learn more about interactive tables.';\n",
              "        element.innerHTML = '';\n",
              "        dataTable['output_type'] = 'display_data';\n",
              "        await google.colab.output.renderOutput(dataTable, element);\n",
              "        const docLink = document.createElement('div');\n",
              "        docLink.innerHTML = docLinkHtml;\n",
              "        element.appendChild(docLink);\n",
              "      }\n",
              "    </script>\n",
              "  </div>\n",
              "\n",
              "\n",
              "<div id=\"df-4e3c1604-cc48-45fe-9414-8dad78ee55f2\">\n",
              "  <button class=\"colab-df-quickchart\" onclick=\"quickchart('df-4e3c1604-cc48-45fe-9414-8dad78ee55f2')\"\n",
              "            title=\"Suggest charts\"\n",
              "            style=\"display:none;\">\n",
              "\n",
              "<svg xmlns=\"http://www.w3.org/2000/svg\" height=\"24px\"viewBox=\"0 0 24 24\"\n",
              "     width=\"24px\">\n",
              "    <g>\n",
              "        <path d=\"M19 3H5c-1.1 0-2 .9-2 2v14c0 1.1.9 2 2 2h14c1.1 0 2-.9 2-2V5c0-1.1-.9-2-2-2zM9 17H7v-7h2v7zm4 0h-2V7h2v10zm4 0h-2v-4h2v4z\"/>\n",
              "    </g>\n",
              "</svg>\n",
              "  </button>\n",
              "\n",
              "<style>\n",
              "  .colab-df-quickchart {\n",
              "      --bg-color: #E8F0FE;\n",
              "      --fill-color: #1967D2;\n",
              "      --hover-bg-color: #E2EBFA;\n",
              "      --hover-fill-color: #174EA6;\n",
              "      --disabled-fill-color: #AAA;\n",
              "      --disabled-bg-color: #DDD;\n",
              "  }\n",
              "\n",
              "  [theme=dark] .colab-df-quickchart {\n",
              "      --bg-color: #3B4455;\n",
              "      --fill-color: #D2E3FC;\n",
              "      --hover-bg-color: #434B5C;\n",
              "      --hover-fill-color: #FFFFFF;\n",
              "      --disabled-bg-color: #3B4455;\n",
              "      --disabled-fill-color: #666;\n",
              "  }\n",
              "\n",
              "  .colab-df-quickchart {\n",
              "    background-color: var(--bg-color);\n",
              "    border: none;\n",
              "    border-radius: 50%;\n",
              "    cursor: pointer;\n",
              "    display: none;\n",
              "    fill: var(--fill-color);\n",
              "    height: 32px;\n",
              "    padding: 0;\n",
              "    width: 32px;\n",
              "  }\n",
              "\n",
              "  .colab-df-quickchart:hover {\n",
              "    background-color: var(--hover-bg-color);\n",
              "    box-shadow: 0 1px 2px rgba(60, 64, 67, 0.3), 0 1px 3px 1px rgba(60, 64, 67, 0.15);\n",
              "    fill: var(--button-hover-fill-color);\n",
              "  }\n",
              "\n",
              "  .colab-df-quickchart-complete:disabled,\n",
              "  .colab-df-quickchart-complete:disabled:hover {\n",
              "    background-color: var(--disabled-bg-color);\n",
              "    fill: var(--disabled-fill-color);\n",
              "    box-shadow: none;\n",
              "  }\n",
              "\n",
              "  .colab-df-spinner {\n",
              "    border: 2px solid var(--fill-color);\n",
              "    border-color: transparent;\n",
              "    border-bottom-color: var(--fill-color);\n",
              "    animation:\n",
              "      spin 1s steps(1) infinite;\n",
              "  }\n",
              "\n",
              "  @keyframes spin {\n",
              "    0% {\n",
              "      border-color: transparent;\n",
              "      border-bottom-color: var(--fill-color);\n",
              "      border-left-color: var(--fill-color);\n",
              "    }\n",
              "    20% {\n",
              "      border-color: transparent;\n",
              "      border-left-color: var(--fill-color);\n",
              "      border-top-color: var(--fill-color);\n",
              "    }\n",
              "    30% {\n",
              "      border-color: transparent;\n",
              "      border-left-color: var(--fill-color);\n",
              "      border-top-color: var(--fill-color);\n",
              "      border-right-color: var(--fill-color);\n",
              "    }\n",
              "    40% {\n",
              "      border-color: transparent;\n",
              "      border-right-color: var(--fill-color);\n",
              "      border-top-color: var(--fill-color);\n",
              "    }\n",
              "    60% {\n",
              "      border-color: transparent;\n",
              "      border-right-color: var(--fill-color);\n",
              "    }\n",
              "    80% {\n",
              "      border-color: transparent;\n",
              "      border-right-color: var(--fill-color);\n",
              "      border-bottom-color: var(--fill-color);\n",
              "    }\n",
              "    90% {\n",
              "      border-color: transparent;\n",
              "      border-bottom-color: var(--fill-color);\n",
              "    }\n",
              "  }\n",
              "</style>\n",
              "\n",
              "  <script>\n",
              "    async function quickchart(key) {\n",
              "      const quickchartButtonEl =\n",
              "        document.querySelector('#' + key + ' button');\n",
              "      quickchartButtonEl.disabled = true;  // To prevent multiple clicks.\n",
              "      quickchartButtonEl.classList.add('colab-df-spinner');\n",
              "      try {\n",
              "        const charts = await google.colab.kernel.invokeFunction(\n",
              "            'suggestCharts', [key], {});\n",
              "      } catch (error) {\n",
              "        console.error('Error during call to suggestCharts:', error);\n",
              "      }\n",
              "      quickchartButtonEl.classList.remove('colab-df-spinner');\n",
              "      quickchartButtonEl.classList.add('colab-df-quickchart-complete');\n",
              "    }\n",
              "    (() => {\n",
              "      let quickchartButtonEl =\n",
              "        document.querySelector('#df-4e3c1604-cc48-45fe-9414-8dad78ee55f2 button');\n",
              "      quickchartButtonEl.style.display =\n",
              "        google.colab.kernel.accessAllowed ? 'block' : 'none';\n",
              "    })();\n",
              "  </script>\n",
              "</div>\n",
              "\n",
              "    </div>\n",
              "  </div>\n"
            ],
            "application/vnd.google.colaboratory.intrinsic+json": {
              "type": "dataframe"
            }
          },
          "metadata": {},
          "execution_count": 9
        }
      ]
    },
    {
      "cell_type": "code",
      "source": [
        "data.isnull().sum().sum()"
      ],
      "metadata": {
        "colab": {
          "base_uri": "https://localhost:8080/"
        },
        "id": "Zh3UpcvpmgyN",
        "outputId": "dd408f0b-818e-4c6c-d92f-d57cdebe9633"
      },
      "execution_count": 10,
      "outputs": [
        {
          "output_type": "execute_result",
          "data": {
            "text/plain": [
              "13"
            ]
          },
          "metadata": {},
          "execution_count": 10
        }
      ]
    },
    {
      "cell_type": "code",
      "source": [
        "print('No Frauds', round(data['Class'].value_counts()[0]/len(data) * 100,2), '% of the dataset')\n",
        "print('Frauds', round(data['Class'].value_counts()[1]/len(data) * 100,2), '% of the dataset')"
      ],
      "metadata": {
        "colab": {
          "base_uri": "https://localhost:8080/"
        },
        "id": "GRjNQj8Mmmhp",
        "outputId": "3d3fd2e9-4cb3-4d2f-994f-1f911f76ea94"
      },
      "execution_count": 11,
      "outputs": [
        {
          "output_type": "stream",
          "name": "stdout",
          "text": [
            "No Frauds 99.93 % of the dataset\n",
            "Frauds 0.05 % of the dataset\n"
          ]
        }
      ]
    },
    {
      "cell_type": "code",
      "source": [
        "sns.countplot(x='Class',data = data)\n",
        "plt.title('Class Distributions \\n (0: No Fraud || 1: Fraud)', fontsize=14)"
      ],
      "metadata": {
        "colab": {
          "base_uri": "https://localhost:8080/",
          "height": 512
        },
        "id": "EzyipvZlmqRT",
        "outputId": "de989339-0576-4718-c52f-b42de31dfe75"
      },
      "execution_count": 12,
      "outputs": [
        {
          "output_type": "execute_result",
          "data": {
            "text/plain": [
              "Text(0.5, 1.0, 'Class Distributions \\n (0: No Fraud || 1: Fraud)')"
            ]
          },
          "metadata": {},
          "execution_count": 12
        },
        {
          "output_type": "display_data",
          "data": {
            "text/plain": [
              "<Figure size 640x480 with 1 Axes>"
            ],
            "image/png": "[encoded data removed]"
          },
          "metadata": {}
        }
      ]
    },
    {
      "cell_type": "code",
      "source": [
        "tmp = data[['Amount','Class']].copy()\n",
        "class_0 = tmp.loc[tmp['Class'] == 0]['Amount']\n",
        "class_1 = tmp.loc[tmp['Class'] == 1]['Amount']"
      ],
      "metadata": {
        "id": "-bVvyc5Qmt3q"
      },
      "execution_count": 13,
      "outputs": []
    },
    {
      "cell_type": "code",
      "source": [
        "class_0.describe()"
      ],
      "metadata": {
        "colab": {
          "base_uri": "https://localhost:8080/"
        },
        "id": "j0DIo6tQmwez",
        "outputId": "0dc814b0-aa1e-4bba-c64d-25b62b973dd8"
      },
      "execution_count": 14,
      "outputs": [
        {
          "output_type": "execute_result",
          "data": {
            "text/plain": [
              "count    5970.000000\n",
              "mean       64.965707\n",
              "std       192.429839\n",
              "min         0.000000\n",
              "25%         4.450000\n",
              "50%        15.620000\n",
              "75%        56.485000\n",
              "max      7712.430000\n",
              "Name: Amount, dtype: float64"
            ]
          },
          "metadata": {},
          "execution_count": 14
        }
      ]
    },
    {
      "cell_type": "code",
      "source": [
        "class_1.describe()"
      ],
      "metadata": {
        "colab": {
          "base_uri": "https://localhost:8080/"
        },
        "id": "NSNxlI7dm0Ct",
        "outputId": "7cd232f6-ca9f-4f82-cb0c-f3d7a9dd1738"
      },
      "execution_count": 15,
      "outputs": [
        {
          "output_type": "execute_result",
          "data": {
            "text/plain": [
              "count      3.000000\n",
              "mean     256.310000\n",
              "std      264.880121\n",
              "min        0.000000\n",
              "25%      119.965000\n",
              "50%      239.930000\n",
              "75%      384.465000\n",
              "max      529.000000\n",
              "Name: Amount, dtype: float64"
            ]
          },
          "metadata": {},
          "execution_count": 15
        }
      ]
    },
    {
      "cell_type": "code",
      "source": [
        "dataplot = sns.heatmap(data.corr(), cmap=\"Blues\")\n",
        "plt.show()"
      ],
      "metadata": {
        "colab": {
          "base_uri": "https://localhost:8080/",
          "height": 458
        },
        "id": "97GOlNRKm3_D",
        "outputId": "712230ce-f111-483d-e238-90dafd6dd324"
      },
      "execution_count": 16,
      "outputs": [
        {
          "output_type": "display_data",
          "data": {
            "text/plain": [
              "<Figure size 640x480 with 2 Axes>"
            ],
            "image/png": "[encoded data removed]"
          },
          "metadata": {}
        }
      ]
    },
    {
      "cell_type": "code",
      "source": [
        "X = data.drop(\"Class\", axis=1)\n",
        "y = data['Class']"
      ],
      "metadata": {
        "id": "7vGXpT2Cm7u4"
      },
      "execution_count": 17,
      "outputs": []
    },
    {
      "cell_type": "code",
      "source": [
        "scaler = MinMaxScaler()\n",
        "X = scaler.fit_transform(X)\n",
        "X"
      ],
      "metadata": {
        "colab": {
          "base_uri": "https://localhost:8080/"
        },
        "id": "h6Oc-7ICm-Uc",
        "outputId": "bc077d47-0e0e-4e81-8783-70c6430072cb"
      },
      "execution_count": 18,
      "outputs": [
        {
          "output_type": "execute_result",
          "data": {
            "text/plain": [
              "array([[0.00000000e+00, 7.80191317e-01, 6.75008587e-01, ...,\n",
              "        6.85623814e-01, 3.71713993e-01, 1.93998519e-02],\n",
              "       [0.00000000e+00, 9.64380374e-01, 6.89617726e-01, ...,\n",
              "        6.73572772e-01, 3.76318488e-01, 3.48787607e-04],\n",
              "       [1.50489090e-04, 7.80296205e-01, 6.20380035e-01, ...,\n",
              "        6.69652487e-01, 3.66733495e-01, 4.90973662e-02],\n",
              "       ...,\n",
              "       [9.98796087e-01, 7.91243498e-01, 6.90418480e-01, ...,\n",
              "        7.05279980e-01, 3.98233823e-01, 1.81525148e-03],\n",
              "       [9.99849511e-01, 9.55411816e-01, 6.82068381e-01, ...,\n",
              "        6.65062788e-01, 3.77410008e-01, 1.81395488e-02],\n",
              "       [1.00000000e+00, 8.39709462e-01, 6.72443174e-01, ...,\n",
              "                   nan,            nan,            nan]])"
            ]
          },
          "metadata": {},
          "execution_count": 18
        }
      ]
    },
    {
      "cell_type": "code",
      "source": [
        "import numpy as np\n",
        "\n",
        "print(np.isnan(y).sum())\n"
      ],
      "metadata": {
        "colab": {
          "base_uri": "https://localhost:8080/"
        },
        "id": "ANlxGQ8UnAve",
        "outputId": "3a18e6fa-e167-4fec-d798-ce086bc595f1"
      },
      "execution_count": 19,
      "outputs": [
        {
          "output_type": "stream",
          "name": "stdout",
          "text": [
            "1\n"
          ]
        }
      ]
    },
    {
      "cell_type": "code",
      "source": [
        "mask = ~np.isnan(y)\n",
        "X = X[mask]\n",
        "y = y[mask]\n"
      ],
      "metadata": {
        "id": "Ybgs7SzinDWG"
      },
      "execution_count": 20,
      "outputs": []
    },
    {
      "cell_type": "code",
      "source": [
        "from sklearn.model_selection import train_test_split\n",
        "\n",
        "# Perform train-test split without stratification\n",
        "X_train, X_test, y_train, y_test = train_test_split(X, y, random_state=42, test_size=0.2)\n"
      ],
      "metadata": {
        "id": "UKBQSLdTnGY5"
      },
      "execution_count": 21,
      "outputs": []
    },
    {
      "cell_type": "code",
      "source": [
        "import pandas as pd\n",
        "\n",
        "y_train_series = pd.Series(y_train)\n",
        "print(y_train_series.value_counts())\n"
      ],
      "metadata": {
        "colab": {
          "base_uri": "https://localhost:8080/"
        },
        "id": "xBMzkOp5nIsU",
        "outputId": "b3bdc17d-1a9e-4c35-d958-194b172d614d"
      },
      "execution_count": 22,
      "outputs": [
        {
          "output_type": "stream",
          "name": "stdout",
          "text": [
            "Class\n",
            "0.0    4776\n",
            "1.0       2\n",
            "Name: count, dtype: int64\n"
          ]
        }
      ]
    },
    {
      "cell_type": "code",
      "source": [
        "print(y_train.dtype)\n"
      ],
      "metadata": {
        "colab": {
          "base_uri": "https://localhost:8080/"
        },
        "id": "qZbT7vKLnLlK",
        "outputId": "1a9a8051-8f2f-47ac-b7b4-d943cb391bdc"
      },
      "execution_count": 23,
      "outputs": [
        {
          "output_type": "stream",
          "name": "stdout",
          "text": [
            "float64\n"
          ]
        }
      ]
    },
    {
      "cell_type": "code",
      "source": [
        "# binning continuous values into discrete categories\n",
        "bins = [0, 10, 20, 30]  # Adjust bins based on your data\n",
        "labels = ['low', 'medium', 'high']\n",
        "y_train_binned = pd.cut(y_train, bins=bins, labels=labels)\n",
        "y_train_binned = y_train_binned.astype(str)  # Convert to string if needed\n"
      ],
      "metadata": {
        "id": "lyILonwvnQtD"
      },
      "execution_count": 24,
      "outputs": []
    },
    {
      "cell_type": "code",
      "source": [
        "print(X_train.shape)\n"
      ],
      "metadata": {
        "colab": {
          "base_uri": "https://localhost:8080/"
        },
        "id": "PB3DrG0wnTqb",
        "outputId": "cfebd56a-2220-4e18-af82-7fac826fd74d"
      },
      "execution_count": 25,
      "outputs": [
        {
          "output_type": "stream",
          "name": "stdout",
          "text": [
            "(4778, 30)\n"
          ]
        }
      ]
    },
    {
      "cell_type": "code",
      "source": [
        "if X_train.ndim == 1:\n",
        "    X_train = X_train.reshape(-1, 1)\n"
      ],
      "metadata": {
        "id": "DSI3i3XknWao"
      },
      "execution_count": 26,
      "outputs": []
    },
    {
      "cell_type": "code",
      "source": [
        "from imblearn.over_sampling import SMOTE\n"
      ],
      "metadata": {
        "id": "LDzr6XzqnlN0"
      },
      "execution_count": 29,
      "outputs": []
    },
    {
      "cell_type": "code",
      "source": [
        "y_train_series = pd.Series(y_train)\n",
        "print(y_train_series.value_counts())"
      ],
      "metadata": {
        "colab": {
          "base_uri": "https://localhost:8080/"
        },
        "id": "C_EbJECUn7yG",
        "outputId": "6c7d1342-8b23-4383-fb2c-ee20643ca81c"
      },
      "execution_count": 31,
      "outputs": [
        {
          "output_type": "stream",
          "name": "stdout",
          "text": [
            "Class\n",
            "0.0    4776\n",
            "1.0       2\n",
            "Name: count, dtype: int64\n"
          ]
        }
      ]
    },
    {
      "cell_type": "code",
      "source": [
        "def evaluate(model):\n",
        "  model.fit(X_train,y_train)\n",
        "  pre = model.predict(X_test)\n",
        "\n",
        "  accuracy = accuracy_score(pre,y_test)\n",
        "  recall = recall_score(pre,y_test)\n",
        "  f1 = f1_score(pre,y_test)\n",
        "\n",
        "  sns.heatmap(confusion_matrix(pre,y_test),annot=True)\n",
        "  print(model)\n",
        "  print(\"Accuracy : \",accuracy,\"Recall : \",recall,\"F1 : \",f1)"
      ],
      "metadata": {
        "id": "WCFBZJkyn_Bq"
      },
      "execution_count": 32,
      "outputs": []
    },
    {
      "cell_type": "code",
      "source": [
        "model_LR = LogisticRegression()"
      ],
      "metadata": {
        "id": "UJkTqBaCoB51"
      },
      "execution_count": 33,
      "outputs": []
    },
    {
      "cell_type": "code",
      "source": [
        "#perform cross validation\n",
        "\n",
        "grid={\"C\":np.logspace(-3,3,7), \"penalty\":[\"l2\"]}  # l2 ridge\n",
        "\n",
        "clf_lsr_cv = GridSearchCV(model_LR,grid,cv=3,scoring='roc_auc')\n",
        "clf_lsr_cv.fit(X_train,y_train)\n",
        "\n",
        "print(\"tuned hpyerparameters :(best parameters) \",clf_lsr_cv.best_params_)\n",
        "print(\"accuracy :\",clf_lsr_cv.best_score_)"
      ],
      "metadata": {
        "colab": {
          "base_uri": "https://localhost:8080/"
        },
        "id": "n891MBFKoEoT",
        "outputId": "bcfa8805-b3ba-4d9f-9c92-53d439c59d77"
      },
      "execution_count": 34,
      "outputs": [
        {
          "output_type": "stream",
          "name": "stdout",
          "text": [
            "tuned hpyerparameters :(best parameters)  {'C': 0.001, 'penalty': 'l2'}\n",
            "accuracy : nan\n"
          ]
        }
      ]
    },
    {
      "cell_type": "code",
      "source": [
        "if X_train.ndim == 1:\n",
        "    X_train = X_train.reshape(-1, 1)\n",
        "if X_test.ndim == 1:\n",
        "    X_test = X_test.reshape(-1, 1)\n"
      ],
      "metadata": {
        "id": "9gvjpl3VoJFy"
      },
      "execution_count": 35,
      "outputs": []
    },
    {
      "cell_type": "code",
      "source": [
        "print(\"Shape of X_train:\", X_train.shape)\n",
        "print(\"Shape of X_test:\", X_test.shape)\n",
        "print(\"Shape of y_train:\", y_train.shape)\n",
        "print(\"Shape of y_test:\", y_test.shape)\n"
      ],
      "metadata": {
        "colab": {
          "base_uri": "https://localhost:8080/"
        },
        "id": "Qs1pJqOboLeC",
        "outputId": "a3c00b35-4d97-44f7-a045-2ce0113dc9ac"
      },
      "execution_count": 36,
      "outputs": [
        {
          "output_type": "stream",
          "name": "stdout",
          "text": [
            "Shape of X_train: (4778, 30)\n",
            "Shape of X_test: (1195, 30)\n",
            "Shape of y_train: (4778,)\n",
            "Shape of y_test: (1195,)\n"
          ]
        }
      ]
    },
    {
      "cell_type": "code",
      "source": [
        "from sklearn.linear_model import LogisticRegression\n",
        "\n",
        "lsr_best = LogisticRegression(penalty='l2', C=1000.0, random_state=42)\n",
        "lsr_clf = lsr_best.fit(X_train, y_train)\n"
      ],
      "metadata": {
        "id": "aFy0ZHyKoOGf"
      },
      "execution_count": 37,
      "outputs": []
    },
    {
      "cell_type": "code",
      "source": [
        "# Assuming evaluate is a custom function for model evaluation\n",
        "# Replace 'evaluate' with the actual evaluation method\n",
        "def evaluate(model, X_test, y_test):\n",
        "    from sklearn.metrics import accuracy_score, classification_report\n",
        "    y_pred = model.predict(X_test)\n",
        "    print(\"Accuracy:\", accuracy_score(y_test, y_pred))\n",
        "    print(\"Classification Report:\\n\", classification_report(y_test, y_pred))\n",
        "\n",
        "# Evaluate the model\n",
        "evaluate(lsr_clf, X_test, y_test)"
      ],
      "metadata": {
        "colab": {
          "base_uri": "https://localhost:8080/"
        },
        "id": "FdJt8ukToShN",
        "outputId": "c03e23ba-0d0e-436e-f849-e1523ec056a2"
      },
      "execution_count": 38,
      "outputs": [
        {
          "output_type": "stream",
          "name": "stdout",
          "text": [
            "Accuracy: 0.999163179916318\n",
            "Classification Report:\n",
            "               precision    recall  f1-score   support\n",
            "\n",
            "         0.0       1.00      1.00      1.00      1194\n",
            "         1.0       0.00      0.00      0.00         1\n",
            "\n",
            "    accuracy                           1.00      1195\n",
            "   macro avg       0.50      0.50      0.50      1195\n",
            "weighted avg       1.00      1.00      1.00      1195\n",
            "\n"
          ]
        }
      ]
    },
    {
      "cell_type": "code",
      "source": [
        "model_KNN = KNeighborsClassifier()"
      ],
      "metadata": {
        "id": "v2IqbLLjoWoH"
      },
      "execution_count": 39,
      "outputs": []
    },
    {
      "cell_type": "code",
      "source": [
        "k_range = np.arange(1, 20, 2)\n",
        "scores = [] #to store cross val score for each k\n",
        "for k in k_range:\n",
        "  model_KNN  = KNeighborsClassifier(n_neighbors=k)\n",
        "  model_KNN .fit(X_train,y_train)\n",
        "  score = cross_val_score(model_KNN , X_train, y_train, cv=3, n_jobs = -1)\n",
        "  scores.append(score.mean())\n",
        "\n",
        "#Storing the mean squared error to decide optimum k\n",
        "mse = [1-x for x in scores]"
      ],
      "metadata": {
        "id": "6N--WV7soYpd"
      },
      "execution_count": 40,
      "outputs": []
    },
    {
      "cell_type": "code",
      "source": [
        "plt.figure(figsize=(20,8))\n",
        "plt.subplot(121)\n",
        "sns.lineplot(x=k_range,y=mse,markers=True,dashes=False)\n",
        "plt.xlabel(\"Value of K\")\n",
        "plt.ylabel(\"Mean Squared Error\")\n",
        "plt.subplot(122)\n",
        "sns.lineplot(x=k_range,y=scores,markers=True,dashes=False)\n",
        "plt.xlabel(\"Value of K\")\n",
        "plt.ylabel(\"Cross Validation Accuracy\")\n",
        "\n",
        "plt.show()"
      ],
      "metadata": {
        "colab": {
          "base_uri": "https://localhost:8080/",
          "height": 597
        },
        "id": "JarXpdOEofdb",
        "outputId": "4c13c436-aa5b-4790-d09d-9875e7340a93"
      },
      "execution_count": 41,
      "outputs": [
        {
          "output_type": "display_data",
          "data": {
            "text/plain": [
              "<Figure size 2000x800 with 2 Axes>"
            ],
            "image/png": "[encoded data removed]"
          },
          "metadata": {}
        }
      ]
    },
    {
      "cell_type": "code",
      "source": [
        "knn = KNeighborsClassifier(n_neighbors=3)\n",
        "\n",
        "knn_clf = knn.fit(X_train,y_train)\n",
        "\n",
        "evaluate(knn_clf, X_test, y_test)\n"
      ],
      "metadata": {
        "colab": {
          "base_uri": "https://localhost:8080/"
        },
        "id": "pPiOuRGvofoi",
        "outputId": "ff499e81-52ab-4d87-c119-d30489b5b24a"
      },
      "execution_count": 42,
      "outputs": [
        {
          "output_type": "stream",
          "name": "stdout",
          "text": [
            "Accuracy: 0.999163179916318\n",
            "Classification Report:\n",
            "               precision    recall  f1-score   support\n",
            "\n",
            "         0.0       1.00      1.00      1.00      1194\n",
            "         1.0       0.00      0.00      0.00         1\n",
            "\n",
            "    accuracy                           1.00      1195\n",
            "   macro avg       0.50      0.50      0.50      1195\n",
            "weighted avg       1.00      1.00      1.00      1195\n",
            "\n"
          ]
        }
      ]
    },
    {
      "cell_type": "code",
      "source": [
        "model_RFC = RandomForestClassifier()"
      ],
      "metadata": {
        "id": "Ag3Ln2Thofxl"
      },
      "execution_count": 43,
      "outputs": []
    },
    {
      "cell_type": "code",
      "source": [
        "# Using grid search cv to find the best parameters.\n",
        "\n",
        "param = {'n_estimators': [10, 20, 30, 40, 50], 'max_depth': [2, 3, 4, 7, 9]}\n",
        "clf_rfc_cv = GridSearchCV(model_RFC, param, cv=5,scoring='roc_auc', n_jobs=-1)\n",
        "clf_rfc_cv.fit(X_train,y_train)\n",
        "\n",
        "print(\"tuned hpyerparameters :(best parameters) \",clf_rfc_cv.best_params_)\n",
        "print(\"accuracy :\",clf_rfc_cv.best_score_)"
      ],
      "metadata": {
        "colab": {
          "base_uri": "https://localhost:8080/"
        },
        "id": "-X0QNBFeof0h",
        "outputId": "e68dc453-3d2f-45e4-e7e8-940ea5463456"
      },
      "execution_count": 44,
      "outputs": [
        {
          "output_type": "stream",
          "name": "stdout",
          "text": [
            "tuned hpyerparameters :(best parameters)  {'max_depth': 2, 'n_estimators': 10}\n",
            "accuracy : nan\n"
          ]
        }
      ]
    },
    {
      "cell_type": "code",
      "source": [
        "#Fitting model\n",
        "\n",
        "rf = RandomForestClassifier(max_depth=9, n_estimators=50)\n",
        "RFC_clf = rf.fit(X_train,y_train)\n",
        "\n",
        "evaluate(RFC_clf, X_test, y_test)"
      ],
      "metadata": {
        "colab": {
          "base_uri": "https://localhost:8080/"
        },
        "id": "QjY3UvbEof3-",
        "outputId": "aac67278-39f6-43f9-826b-db018f38fa21"
      },
      "execution_count": 45,
      "outputs": [
        {
          "output_type": "stream",
          "name": "stdout",
          "text": [
            "Accuracy: 0.999163179916318\n",
            "Classification Report:\n",
            "               precision    recall  f1-score   support\n",
            "\n",
            "         0.0       1.00      1.00      1.00      1194\n",
            "         1.0       0.00      0.00      0.00         1\n",
            "\n",
            "    accuracy                           1.00      1195\n",
            "   macro avg       0.50      0.50      0.50      1195\n",
            "weighted avg       1.00      1.00      1.00      1195\n",
            "\n"
          ]
        }
      ]
    },
    {
      "cell_type": "code",
      "source": [
        "model_ANN = Sequential([\n",
        "    Dense(32, activation='relu', input_dim=X_train.shape[1]),\n",
        "\n",
        "    Dense(16, activation='relu'),\n",
        "\n",
        "    Dense(8, activation='relu'),\n",
        "\n",
        "    Dense(1, activation='sigmoid')\n",
        "])\n",
        "\n",
        "model_ANN.compile(optimizer='adam', loss='binary_crossentropy', metrics=['accuracy'])\n",
        "model_ANN.summary()"
      ],
      "metadata": {
        "colab": {
          "base_uri": "https://localhost:8080/"
        },
        "id": "dXqzYM3qoy_1",
        "outputId": "c901d396-ff76-4ffa-f9c7-ba063187bff3"
      },
      "execution_count": 46,
      "outputs": [
        {
          "output_type": "stream",
          "name": "stdout",
          "text": [
            "Model: \"sequential\"\n",
            "_________________________________________________________________\n",
            " Layer (type)                Output Shape              Param #   \n",
            "=================================================================\n",
            " dense (Dense)               (None, 32)                992       \n",
            "                                                                 \n",
            " dense_1 (Dense)             (None, 16)                528       \n",
            "                                                                 \n",
            " dense_2 (Dense)             (None, 8)                 136       \n",
            "                                                                 \n",
            " dense_3 (Dense)             (None, 1)                 9         \n",
            "                                                                 \n",
            "=================================================================\n",
            "Total params: 1665 (6.50 KB)\n",
            "Trainable params: 1665 (6.50 KB)\n",
            "Non-trainable params: 0 (0.00 Byte)\n",
            "_________________________________________________________________\n"
          ]
        }
      ]
    },
    {
      "cell_type": "code",
      "source": [
        "X_train = X_train.to_numpy() if hasattr(X_train, 'to_numpy') else np.array(X_train)\n",
        "y_train = y_train.to_numpy() if hasattr(y_train, 'to_numpy') else np.array(y_train)\n"
      ],
      "metadata": {
        "id": "dgggyREJo1Nf"
      },
      "execution_count": 47,
      "outputs": []
    },
    {
      "cell_type": "code",
      "source": [
        "import numpy as np\n",
        "\n",
        "if isinstance(X_train, pd.DataFrame) or isinstance(X_train, pd.Series):\n",
        "    X_train = X_train.values\n",
        "if isinstance(y_train, pd.DataFrame) or isinstance(y_train, pd.Series):\n",
        "    y_train = y_train.values\n"
      ],
      "metadata": {
        "id": "UIcCBBvgo1DH"
      },
      "execution_count": 48,
      "outputs": []
    },
    {
      "cell_type": "code",
      "source": [
        "history = model_ANN.fit(X_train, y_train, epochs=50, batch_size=64, validation_split=0.2)\n"
      ],
      "metadata": {
        "colab": {
          "base_uri": "https://localhost:8080/"
        },
        "id": "SSDG448Ao01Y",
        "outputId": "0de5a5c3-f812-4dd6-c701-46601028b704"
      },
      "execution_count": 49,
      "outputs": [
        {
          "output_type": "stream",
          "name": "stdout",
          "text": [
            "Epoch 1/50\n",
            "60/60 [==============================] - 2s 6ms/step - loss: 0.2750 - accuracy: 0.9990 - val_loss: 0.0387 - val_accuracy: 0.9990\n",
            "Epoch 2/50\n",
            "60/60 [==============================] - 0s 3ms/step - loss: 0.0132 - accuracy: 0.9997 - val_loss: 0.0101 - val_accuracy: 0.9990\n",
            "Epoch 3/50\n",
            "60/60 [==============================] - 0s 3ms/step - loss: 0.0041 - accuracy: 0.9997 - val_loss: 0.0084 - val_accuracy: 0.9990\n",
            "Epoch 4/50\n",
            "60/60 [==============================] - 0s 3ms/step - loss: 0.0024 - accuracy: 0.9997 - val_loss: 0.0089 - val_accuracy: 0.9990\n",
            "Epoch 5/50\n",
            "60/60 [==============================] - 0s 3ms/step - loss: 0.0022 - accuracy: 0.9997 - val_loss: 0.0093 - val_accuracy: 0.9990\n",
            "Epoch 6/50\n",
            "60/60 [==============================] - 0s 3ms/step - loss: 0.0022 - accuracy: 0.9997 - val_loss: 0.0093 - val_accuracy: 0.9990\n",
            "Epoch 7/50\n",
            "60/60 [==============================] - 0s 3ms/step - loss: 0.0022 - accuracy: 0.9997 - val_loss: 0.0091 - val_accuracy: 0.9990\n",
            "Epoch 8/50\n",
            "60/60 [==============================] - 0s 3ms/step - loss: 0.0022 - accuracy: 0.9997 - val_loss: 0.0094 - val_accuracy: 0.9990\n",
            "Epoch 9/50\n",
            "60/60 [==============================] - 0s 3ms/step - loss: 0.0022 - accuracy: 0.9997 - val_loss: 0.0091 - val_accuracy: 0.9990\n",
            "Epoch 10/50\n",
            "60/60 [==============================] - 0s 4ms/step - loss: 0.0022 - accuracy: 0.9997 - val_loss: 0.0091 - val_accuracy: 0.9990\n",
            "Epoch 11/50\n",
            "60/60 [==============================] - 0s 5ms/step - loss: 0.0021 - accuracy: 0.9997 - val_loss: 0.0092 - val_accuracy: 0.9990\n",
            "Epoch 12/50\n",
            "60/60 [==============================] - 0s 5ms/step - loss: 0.0022 - accuracy: 0.9997 - val_loss: 0.0093 - val_accuracy: 0.9990\n",
            "Epoch 13/50\n",
            "60/60 [==============================] - 0s 5ms/step - loss: 0.0021 - accuracy: 0.9997 - val_loss: 0.0091 - val_accuracy: 0.9990\n",
            "Epoch 14/50\n",
            "60/60 [==============================] - 0s 5ms/step - loss: 0.0021 - accuracy: 0.9997 - val_loss: 0.0091 - val_accuracy: 0.9990\n",
            "Epoch 15/50\n",
            "60/60 [==============================] - 0s 5ms/step - loss: 0.0021 - accuracy: 0.9997 - val_loss: 0.0091 - val_accuracy: 0.9990\n",
            "Epoch 16/50\n",
            "60/60 [==============================] - 0s 5ms/step - loss: 0.0021 - accuracy: 0.9997 - val_loss: 0.0091 - val_accuracy: 0.9990\n",
            "Epoch 17/50\n",
            "60/60 [==============================] - 0s 5ms/step - loss: 0.0021 - accuracy: 0.9997 - val_loss: 0.0090 - val_accuracy: 0.9990\n",
            "Epoch 18/50\n",
            "60/60 [==============================] - 0s 5ms/step - loss: 0.0021 - accuracy: 0.9997 - val_loss: 0.0091 - val_accuracy: 0.9990\n",
            "Epoch 19/50\n",
            "60/60 [==============================] - 0s 5ms/step - loss: 0.0021 - accuracy: 0.9997 - val_loss: 0.0091 - val_accuracy: 0.9990\n",
            "Epoch 20/50\n",
            "60/60 [==============================] - 0s 5ms/step - loss: 0.0021 - accuracy: 0.9997 - val_loss: 0.0091 - val_accuracy: 0.9990\n",
            "Epoch 21/50\n",
            "60/60 [==============================] - 0s 5ms/step - loss: 0.0021 - accuracy: 0.9997 - val_loss: 0.0090 - val_accuracy: 0.9990\n",
            "Epoch 22/50\n",
            "60/60 [==============================] - 0s 4ms/step - loss: 0.0021 - accuracy: 0.9997 - val_loss: 0.0091 - val_accuracy: 0.9990\n",
            "Epoch 23/50\n",
            "60/60 [==============================] - 0s 6ms/step - loss: 0.0021 - accuracy: 0.9997 - val_loss: 0.0090 - val_accuracy: 0.9990\n",
            "Epoch 24/50\n",
            "60/60 [==============================] - 0s 5ms/step - loss: 0.0021 - accuracy: 0.9997 - val_loss: 0.0091 - val_accuracy: 0.9990\n",
            "Epoch 25/50\n",
            "60/60 [==============================] - 0s 4ms/step - loss: 0.0020 - accuracy: 0.9997 - val_loss: 0.0089 - val_accuracy: 0.9990\n",
            "Epoch 26/50\n",
            "60/60 [==============================] - 0s 8ms/step - loss: 0.0020 - accuracy: 0.9997 - val_loss: 0.0089 - val_accuracy: 0.9990\n",
            "Epoch 27/50\n",
            "60/60 [==============================] - 0s 7ms/step - loss: 0.0020 - accuracy: 0.9997 - val_loss: 0.0089 - val_accuracy: 0.9990\n",
            "Epoch 28/50\n",
            "60/60 [==============================] - 0s 6ms/step - loss: 0.0020 - accuracy: 0.9997 - val_loss: 0.0089 - val_accuracy: 0.9990\n",
            "Epoch 29/50\n",
            "60/60 [==============================] - 0s 5ms/step - loss: 0.0020 - accuracy: 0.9997 - val_loss: 0.0089 - val_accuracy: 0.9990\n",
            "Epoch 30/50\n",
            "60/60 [==============================] - 0s 5ms/step - loss: 0.0020 - accuracy: 0.9997 - val_loss: 0.0089 - val_accuracy: 0.9990\n",
            "Epoch 31/50\n",
            "60/60 [==============================] - 0s 6ms/step - loss: 0.0020 - accuracy: 0.9997 - val_loss: 0.0089 - val_accuracy: 0.9990\n",
            "Epoch 32/50\n",
            "60/60 [==============================] - 0s 4ms/step - loss: 0.0020 - accuracy: 0.9997 - val_loss: 0.0089 - val_accuracy: 0.9990\n",
            "Epoch 33/50\n",
            "60/60 [==============================] - 0s 5ms/step - loss: 0.0020 - accuracy: 0.9997 - val_loss: 0.0088 - val_accuracy: 0.9990\n",
            "Epoch 34/50\n",
            "60/60 [==============================] - 0s 6ms/step - loss: 0.0019 - accuracy: 0.9997 - val_loss: 0.0088 - val_accuracy: 0.9990\n",
            "Epoch 35/50\n",
            "60/60 [==============================] - 0s 6ms/step - loss: 0.0019 - accuracy: 0.9997 - val_loss: 0.0088 - val_accuracy: 0.9990\n",
            "Epoch 36/50\n",
            "60/60 [==============================] - 0s 5ms/step - loss: 0.0019 - accuracy: 0.9997 - val_loss: 0.0089 - val_accuracy: 0.9990\n",
            "Epoch 37/50\n",
            "60/60 [==============================] - 0s 6ms/step - loss: 0.0019 - accuracy: 0.9997 - val_loss: 0.0090 - val_accuracy: 0.9990\n",
            "Epoch 38/50\n",
            "60/60 [==============================] - 0s 5ms/step - loss: 0.0019 - accuracy: 0.9997 - val_loss: 0.0091 - val_accuracy: 0.9990\n",
            "Epoch 39/50\n",
            "60/60 [==============================] - 0s 5ms/step - loss: 0.0019 - accuracy: 0.9997 - val_loss: 0.0086 - val_accuracy: 0.9990\n",
            "Epoch 40/50\n",
            "60/60 [==============================] - 0s 6ms/step - loss: 0.0018 - accuracy: 0.9997 - val_loss: 0.0088 - val_accuracy: 0.9990\n",
            "Epoch 41/50\n",
            "60/60 [==============================] - 0s 5ms/step - loss: 0.0019 - accuracy: 0.9997 - val_loss: 0.0090 - val_accuracy: 0.9990\n",
            "Epoch 42/50\n",
            "60/60 [==============================] - 0s 5ms/step - loss: 0.0018 - accuracy: 0.9997 - val_loss: 0.0086 - val_accuracy: 0.9990\n",
            "Epoch 43/50\n",
            "60/60 [==============================] - 0s 3ms/step - loss: 0.0018 - accuracy: 0.9997 - val_loss: 0.0087 - val_accuracy: 0.9990\n",
            "Epoch 44/50\n",
            "60/60 [==============================] - 0s 3ms/step - loss: 0.0018 - accuracy: 0.9997 - val_loss: 0.0086 - val_accuracy: 0.9990\n",
            "Epoch 45/50\n",
            "60/60 [==============================] - 0s 3ms/step - loss: 0.0018 - accuracy: 0.9997 - val_loss: 0.0086 - val_accuracy: 0.9990\n",
            "Epoch 46/50\n",
            "60/60 [==============================] - 0s 3ms/step - loss: 0.0018 - accuracy: 0.9997 - val_loss: 0.0086 - val_accuracy: 0.9990\n",
            "Epoch 47/50\n",
            "60/60 [==============================] - 0s 3ms/step - loss: 0.0017 - accuracy: 0.9997 - val_loss: 0.0085 - val_accuracy: 0.9990\n",
            "Epoch 48/50\n",
            "60/60 [==============================] - 0s 3ms/step - loss: 0.0017 - accuracy: 0.9997 - val_loss: 0.0085 - val_accuracy: 0.9990\n",
            "Epoch 49/50\n",
            "60/60 [==============================] - 0s 3ms/step - loss: 0.0017 - accuracy: 0.9997 - val_loss: 0.0087 - val_accuracy: 0.9990\n",
            "Epoch 50/50\n",
            "60/60 [==============================] - 0s 4ms/step - loss: 0.0016 - accuracy: 0.9997 - val_loss: 0.0089 - val_accuracy: 0.9990\n"
          ]
        }
      ]
    },
    {
      "cell_type": "code",
      "source": [
        "y_pred = model_ANN.predict(X_test)\n",
        "y_pred = (y_pred > 0.5)"
      ],
      "metadata": {
        "colab": {
          "base_uri": "https://localhost:8080/"
        },
        "id": "CvCEqqdDpRTB",
        "outputId": "c7170359-3fd2-4756-dfa7-58513dc8535c"
      },
      "execution_count": 50,
      "outputs": [
        {
          "output_type": "stream",
          "name": "stdout",
          "text": [
            "38/38 [==============================] - 0s 4ms/step\n"
          ]
        }
      ]
    },
    {
      "cell_type": "code",
      "source": [
        "classification_report(y_pred,y_test)"
      ],
      "metadata": {
        "colab": {
          "base_uri": "https://localhost:8080/",
          "height": 53
        },
        "id": "jYFhqFsApYNX",
        "outputId": "d026b25d-80df-4728-878b-2958ef503aa9"
      },
      "execution_count": 51,
      "outputs": [
        {
          "output_type": "execute_result",
          "data": {
            "text/plain": [
              "'              precision    recall  f1-score   support\\n\\n         0.0       1.00      1.00      1.00      1195\\n         1.0       0.00      0.00      0.00         0\\n\\n    accuracy                           1.00      1195\\n   macro avg       0.50      0.50      0.50      1195\\nweighted avg       1.00      1.00      1.00      1195\\n'"
            ],
            "application/vnd.google.colaboratory.intrinsic+json": {
              "type": "string"
            }
          },
          "metadata": {},
          "execution_count": 51
        }
      ]
    },
    {
      "cell_type": "code",
      "source": [
        "cm = confusion_matrix(y_test,y_pred)\n",
        "sns.heatmap(cm, annot=True)\n",
        "plt.show()"
      ],
      "metadata": {
        "colab": {
          "base_uri": "https://localhost:8080/",
          "height": 430
        },
        "id": "qhJJJ1kSpb-4",
        "outputId": "d64b82ff-6c77-40c2-839f-23ccbab72402"
      },
      "execution_count": 52,
      "outputs": [
        {
          "output_type": "display_data",
          "data": {
            "text/plain": [
              "<Figure size 640x480 with 2 Axes>"
            ],
            "image/png": "[encoded data removed]"
          },
          "metadata": {}
        }
      ]
    },
    {
      "cell_type": "code",
      "source": [
        "print(X.shape)\n"
      ],
      "metadata": {
        "colab": {
          "base_uri": "https://localhost:8080/"
        },
        "id": "_GPYufubpfCg",
        "outputId": "1d389b25-95c1-405f-a7df-397dad016834"
      },
      "execution_count": 53,
      "outputs": [
        {
          "output_type": "stream",
          "name": "stdout",
          "text": [
            "(5973, 30)\n"
          ]
        }
      ]
    },
    {
      "cell_type": "code",
      "source": [
        "if X.ndim == 1:\n",
        "    X = X.reshape(-1, 1)\n"
      ],
      "metadata": {
        "id": "UeFLlU23piDH"
      },
      "execution_count": 54,
      "outputs": []
    },
    {
      "cell_type": "code",
      "source": [
        "from sklearn.cluster import KMeans\n",
        "\n",
        "kmeans = KMeans(n_clusters=2, init='k-means++', max_iter=300, n_init=10, random_state=42)\n",
        "y_kmeans = kmeans.fit_predict(X)\n"
      ],
      "metadata": {
        "id": "Vn-Ph6hyplQE"
      },
      "execution_count": 55,
      "outputs": []
    },
    {
      "cell_type": "code",
      "source": [
        "X"
      ],
      "metadata": {
        "colab": {
          "base_uri": "https://localhost:8080/"
        },
        "id": "PmuSiI8_poLT",
        "outputId": "ab50ac69-3c88-4aba-e60c-bc9eecd5218c"
      },
      "execution_count": 56,
      "outputs": [
        {
          "output_type": "execute_result",
          "data": {
            "text/plain": [
              "array([[0.00000000e+00, 7.80191317e-01, 6.75008587e-01, ...,\n",
              "        6.85623814e-01, 3.71713993e-01, 1.93998519e-02],\n",
              "       [0.00000000e+00, 9.64380374e-01, 6.89617726e-01, ...,\n",
              "        6.73572772e-01, 3.76318488e-01, 3.48787607e-04],\n",
              "       [1.50489090e-04, 7.80296205e-01, 6.20380035e-01, ...,\n",
              "        6.69652487e-01, 3.66733495e-01, 4.90973662e-02],\n",
              "       ...,\n",
              "       [9.98495109e-01, 7.75826727e-01, 7.40617905e-01, ...,\n",
              "        6.97779110e-01, 3.45762977e-01, 9.98388316e-05],\n",
              "       [9.98796087e-01, 7.91243498e-01, 6.90418480e-01, ...,\n",
              "        7.05279980e-01, 3.98233823e-01, 1.81525148e-03],\n",
              "       [9.99849511e-01, 9.55411816e-01, 6.82068381e-01, ...,\n",
              "        6.65062788e-01, 3.77410008e-01, 1.81395488e-02]])"
            ]
          },
          "metadata": {},
          "execution_count": 56
        }
      ]
    },
    {
      "cell_type": "code",
      "source": [
        "#Scatter plot with a single feature\n",
        "from sklearn.cluster import KMeans\n",
        "\n",
        "# Example data with a single feature\n",
        "X = np.random.rand(100, 1)\n",
        "\n",
        "# Fit and predict with KMeans\n",
        "kmeans = KMeans(n_clusters=2, init='k-means++', max_iter=300, n_init=10, random_state=42)\n",
        "y_kmeans = kmeans.fit_predict(X)\n",
        "\n",
        "# Scatter plot with a single feature\n",
        "plt.scatter(X[y_kmeans == 0], np.zeros_like(X[y_kmeans == 0]), s=100, c='red', label='Cluster 1')\n",
        "plt.scatter(X[y_kmeans == 1], np.zeros_like(X[y_kmeans == 1]), s=100, c='blue', label='Cluster 2')\n",
        "plt.xlabel('Feature 1')\n",
        "plt.ylabel('Value (Constant Zero)')\n",
        "plt.legend()\n",
        "plt.title('KMeans Clustering with a Single Feature')\n",
        "plt.show()\n"
      ],
      "metadata": {
        "colab": {
          "base_uri": "https://localhost:8080/",
          "height": 472
        },
        "id": "kXM7RNMpprAA",
        "outputId": "299226d9-b89f-4d7f-e780-5a42ededb4de"
      },
      "execution_count": 57,
      "outputs": [
        {
          "output_type": "display_data",
          "data": {
            "text/plain": [
              "<Figure size 640x480 with 1 Axes>"
            ],
            "image/png": "[encoded data removed]"
          },
          "metadata": {}
        }
      ]
    },
    {
      "cell_type": "code",
      "source": [
        "# OR\n",
        "#Using PCA for dimensionality reduction\n",
        "from sklearn.cluster import KMeans\n",
        "from sklearn.decomposition import PCA\n",
        "\n",
        "# Example data with multiple features\n",
        "X = np.random.rand(100, 5)  # Assuming multiple features for demonstration\n",
        "\n",
        "# Fit and predict with KMeans\n",
        "kmeans = KMeans(n_clusters=2, init='k-means++', max_iter=300, n_init=10, random_state=42)\n",
        "y_kmeans = kmeans.fit_predict(X)\n",
        "\n",
        "# Reduce to 2D using PCA\n",
        "pca = PCA(n_components=2)\n",
        "X_pca = pca.fit_transform(X)\n",
        "\n",
        "# Scatter plot with PCA-reduced features\n",
        "plt.scatter(X_pca[y_kmeans == 0, 0], X_pca[y_kmeans == 0, 1], s=100, c='red', label='Cluster 1')\n",
        "plt.scatter(X_pca[y_kmeans == 1, 0], X_pca[y_kmeans == 1, 1], s=100, c='blue', label='Cluster 2')\n",
        "plt.xlabel('PCA Feature 1')\n",
        "plt.ylabel('PCA Feature 2')\n",
        "plt.legend()\n",
        "plt.title('KMeans Clustering with PCA')\n",
        "plt.show()\n"
      ],
      "metadata": {
        "colab": {
          "base_uri": "https://localhost:8080/",
          "height": 472
        },
        "id": "3lSHiVcTpt_H",
        "outputId": "372b5e4f-272b-4c03-fb54-62be428e46ef"
      },
      "execution_count": 58,
      "outputs": [
        {
          "output_type": "display_data",
          "data": {
            "text/plain": [
              "<Figure size 640x480 with 1 Axes>"
            ],
            "image/png": "[encoded data removed]"
          },
          "metadata": {}
        }
      ]
    }
  ]
}